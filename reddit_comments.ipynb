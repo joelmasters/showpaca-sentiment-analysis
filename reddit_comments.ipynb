{
 "cells": [
  {
   "cell_type": "code",
   "execution_count": 1,
   "metadata": {
    "collapsed": true
   },
   "outputs": [],
   "source": [
    "import praw\n",
    "from textblob import TextBlob\n",
    "import nltk\n",
    "from nltk.corpus import stopwords\n",
    "import operator\n",
    "import matplotlib.pyplot as plt\n",
    "import pandas as pd\n",
    "from operator import itemgetter"
   ]
  },
  {
   "cell_type": "code",
   "execution_count": 2,
   "metadata": {
    "collapsed": true
   },
   "outputs": [],
   "source": [
    "# Create Reddit Client\n",
    "reddit = praw.Reddit(client_id='EyFJRg2jwS3TLg', client_secret='3h6jZqoRIkFiUHttNCBMKcVWP64', user_agent='Comment Extraction by Showpaca')\n",
    "\n",
    "# Grab the submission by id\n",
    "submission = reddit.submission(id='azge71')"
   ]
  },
  {
   "cell_type": "code",
   "execution_count": 3,
   "metadata": {
    "collapsed": true
   },
   "outputs": [],
   "source": [
    "companies_names = ['hulu', 'disney', 'cbs', 'netflix', \n",
    "                   'amazon', 'sling', 'philo', 'youtube tv', \n",
    "                   'directv now', 'playstation vue']\n",
    "comp_list = ['hulu', \n",
    "             'disney', \n",
    "             'cbs', \n",
    "             'netflix', \n",
    "             'amazon', \n",
    "             'sling', 'slingtv',\n",
    "             'philo',\n",
    "             'youtube', 'yttv', 'youtubetv',\n",
    "             'directv', 'dtvn', 'dtv', 'dtvnow',\n",
    "             'playstation', 'ps', 'vue', 'psvue', 'pv']"
   ]
  },
  {
   "cell_type": "code",
   "execution_count": 4,
   "metadata": {
    "collapsed": true
   },
   "outputs": [],
   "source": [
    "def get_sentiments(sub):\n",
    "    # Extract all comments and their replies\n",
    "    # Format is top-level comments, followed by second-level, followed by third-level, etc...\n",
    "    sub.comments.replace_more(limit=None)\n",
    "    \n",
    "    # Removes stop words from comments\n",
    "    # filtered_sub = filter_sub(sub)\n",
    "    \n",
    "    # Displays graph of top word counts in entire submission\n",
    "    #print('Most Frequent Words:')\n",
    "    display_word_counts(sub)\n",
    "    \n",
    "    # Analyze sentiment\n",
    "    #print('\\nSentiment by Comments:')\n",
    "    #sentiments = analyze_sentiment(sub)\n",
    "    #print('\\nSentiment by Sentence:')\n",
    "    sentiments = analyze_sentiment_sentence(sub)\n",
    "    return(sentiments)\n",
    "    "
   ]
  },
  {
   "cell_type": "code",
   "execution_count": 5,
   "metadata": {
    "collapsed": true
   },
   "outputs": [],
   "source": [
    "def filter_sub(sub):\n",
    "    filtered_sub = []\n",
    "    for comment in sub.comments.list():\n",
    "        filtered_sub.append(filter_comm(TextBlob(comment.body)))\n",
    "    return filtered_sub"
   ]
  },
  {
   "cell_type": "code",
   "execution_count": 6,
   "metadata": {
    "collapsed": true
   },
   "outputs": [],
   "source": [
    "def filter_text(text):\n",
    "    stops = stopwords.words(\"english\")\n",
    "    stops.append(chr(8217)) # right apostrophe\n",
    "    stops.append(\"`\")\n",
    "    stops.append(\"n't\")\n",
    "    stops.append(\"'s\")\n",
    "    filtered_text = [word for word in text.words if word.lower() not in stops]\n",
    "    return filtered_text"
   ]
  },
  {
   "cell_type": "code",
   "execution_count": 7,
   "metadata": {
    "collapsed": true
   },
   "outputs": [],
   "source": [
    "def display_word_counts(sub):\n",
    "    sub_all_text = \"\"\n",
    "    for comment in sub.comments.list():\n",
    "        sub_all_text += comment.body\n",
    "    blob_total = TextBlob(sub_all_text)\n",
    "    filtered_blob = filter_text(blob_total)\n",
    "    word_counts = {}\n",
    "    for word in filtered_blob:\n",
    "        if not word.lower() in word_counts.keys():\n",
    "            word_counts[word.lower()] = filtered_blob.count(word)\n",
    "    sorted_counts = sorted(word_counts.items(), key=operator.itemgetter(1), reverse=True)\n",
    "    \n",
    "    words = [word[0] for word in sorted_counts]\n",
    "    counts = [word[1] for word in sorted_counts]\n",
    "\n",
    "    '''df = pd.DataFrame(counts[:10], index=words[:10], columns=['Count'])\n",
    "    df.plot(kind='bar',rot=45,figsize=(10,4))\n",
    "    plt.show()'''"
   ]
  },
  {
   "cell_type": "code",
   "execution_count": 8,
   "metadata": {
    "collapsed": true
   },
   "outputs": [],
   "source": [
    "def analyze_sentiment(sub):\n",
    "    text = [TextBlob(comment.body) for comment in sub.comments.list()]\n",
    "    sents = []\n",
    "    counts_freq = []\n",
    "    hulu_sents = []\n",
    "    disney_sents = []\n",
    "    cbs_sents = []\n",
    "    netflix_sents = []\n",
    "    amazon_sents = []\n",
    "    sling_sents = []\n",
    "    philo_sents = []\n",
    "    youtube_sents = []\n",
    "    directv_sents = []\n",
    "    playstation_sents = []\n",
    "    \n",
    "    for comment in text:\n",
    "        filtered_text = [word for word in comment.words if word.lower() in comp_list]\n",
    "        counts = {}\n",
    "        sents.append(get_sentiment(comment))\n",
    "        pol = get_sentiment(comment).polarity\n",
    "        for word in filtered_text:\n",
    "            if not word.lower() in counts.keys():\n",
    "                word_low = word.lower()\n",
    "                counts[word_low] = filtered_text.count(word)\n",
    "                if (word_low == 'hulu'):\n",
    "                    hulu_sents.append([pol, filtered_text.count(word)])\n",
    "                elif (word_low == 'disney'):\n",
    "                    disney_sents.append([pol, filtered_text.count(word)])\n",
    "                elif (word_low == 'cbs'):\n",
    "                    cbs_sents.append([pol, filtered_text.count(word)])\n",
    "                elif (word_low == 'netflix'):\n",
    "                    netflix_sents.append([pol, filtered_text.count(word)])\n",
    "                elif (word_low == 'amazon'):\n",
    "                    amazon_sents.append([pol, filtered_text.count(word)])\n",
    "                elif (word_low == 'sling' or word_low == 'slingtv'):\n",
    "                    sling_sents.append([pol, filtered_text.count(word)])\n",
    "                elif (word_low == 'philo'):\n",
    "                    philo_sents.append([pol, filtered_text.count(word)])\n",
    "                elif (word_low == 'youtube' or word_low == 'yttv' or word_low == 'youtubetv'):\n",
    "                    youtube_sents.append([pol, filtered_text.count(word)])\n",
    "                elif (word_low == 'directv' \n",
    "                      or word_low == 'dtvn' \n",
    "                      or word_low == 'dtv'\n",
    "                      or word_low == 'dtvnow'):\n",
    "                    directv_sents.append([pol, filtered_text.count(word)])\n",
    "                elif (word_low == 'playstation' \n",
    "                      or word_low == 'ps' \n",
    "                      or word_low == 'vue' \n",
    "                      or word_low == 'psvue'\n",
    "                      or word_low == 'pv'):\n",
    "                    playstation_sents.append([pol, filtered_text.count(word)])\n",
    "            \n",
    "        sort_counts = sorted(counts.items(), key=operator.itemgetter(1), reverse=True)\n",
    "        \n",
    "        str_counts = []\n",
    "        for count in sort_counts:\n",
    "            str_counts.append(count[0] + ': ' + str(count[1]))\n",
    "        cat_counts = '; '.join(str_counts)\n",
    "        counts_freq.append(cat_counts)\n",
    "        \n",
    "    \n",
    "    tot_sents = [get_total_sent(hulu_sents), \n",
    "                 get_total_sent(disney_sents), \n",
    "                 get_total_sent(cbs_sents),\n",
    "                 get_total_sent(netflix_sents),\n",
    "                 get_total_sent(amazon_sents),\n",
    "                 get_total_sent(sling_sents),\n",
    "                 get_total_sent(philo_sents),\n",
    "                 get_total_sent(youtube_sents),\n",
    "                 get_total_sent(directv_sents),\n",
    "                 get_total_sent(playstation_sents)]\n",
    "    \n",
    "    '''sents_df = pd.DataFrame(tot_sents, index=companies_names, columns=['Sentiment Density'])\n",
    "    sorted_sents = sents_df.sort_values(by='Sentiment Density', ascending=False)\n",
    "    print(sorted_sents)\n",
    "    sorted_sents.plot(kind='bar',rot=45,figsize=(10,4))\n",
    "    plt.show()'''\n",
    "    \n",
    "    #return pd.DataFrame(sents[:20], index=counts_freq[:20])\n",
    "    return tot_sents"
   ]
  },
  {
   "cell_type": "code",
   "execution_count": 9,
   "metadata": {
    "collapsed": true
   },
   "outputs": [],
   "source": [
    "def analyze_sentiment_sentence(sub):\n",
    "    text = [TextBlob(comment.body) for comment in sub.comments.list()]\n",
    "    sents = []\n",
    "    counts_freq = []\n",
    "    hulu_sents = []\n",
    "    disney_sents = []\n",
    "    cbs_sents = []\n",
    "    netflix_sents = []\n",
    "    amazon_sents = []\n",
    "    sling_sents = []\n",
    "    philo_sents = []\n",
    "    youtube_sents = []\n",
    "    directv_sents = []\n",
    "    playstation_sents = []\n",
    "    sent_count = 0\n",
    "    \n",
    "    for comment in text:\n",
    "        for sentence in comment.sentences:\n",
    "            filtered_text = [word for word in sentence.words if word.lower() in comp_list]\n",
    "            counts = {}\n",
    "            sents.append(get_sentiment(sentence))\n",
    "            pol = get_sentiment(sentence).polarity\n",
    "            for word in filtered_text:\n",
    "                if not word.lower() in counts.keys():\n",
    "                    word_low = word.lower()\n",
    "                    counts[word_low] = filtered_text.count(word)\n",
    "                    sent_count += 1\n",
    "                    if (word_low == 'hulu'):\n",
    "                        hulu_sents.append([pol, str(sentence)])\n",
    "                    elif (word_low == 'disney'):\n",
    "                        disney_sents.append([pol, str(sentence)])\n",
    "                    elif (word_low == 'cbs'):\n",
    "                        cbs_sents.append([pol, str(sentence)])\n",
    "                    elif (word_low == 'netflix'):\n",
    "                        netflix_sents.append([pol, str(sentence)])\n",
    "                    elif (word_low == 'amazon'):\n",
    "                        amazon_sents.append([pol, str(sentence)])\n",
    "                    elif (word_low == 'sling' or word_low == 'slingtv'):\n",
    "                        sling_sents.append([pol, str(sentence)])\n",
    "                    elif (word_low == 'philo'):\n",
    "                        philo_sents.append([pol, str(sentence)])\n",
    "                    elif (word_low == 'youtube' or word_low == 'yttv' or word_low == 'youtubetv'):\n",
    "                        youtube_sents.append([pol, str(sentence)])\n",
    "                    elif (word_low == 'directv' or word_low == 'dtvn' or word_low == 'dtv'):\n",
    "                        directv_sents.append([pol, str(sentence)])\n",
    "                    elif (word_low == 'playstation' \n",
    "                          or word_low == 'ps' \n",
    "                          or word_low == 'vue' \n",
    "                          or word_low == 'psvue'\n",
    "                          or word_low == 'pv'):\n",
    "                        playstation_sents.append([pol, str(sentence)])\n",
    "                    else:\n",
    "                        sent_count = sent_count - 1\n",
    "\n",
    "            sort_counts = sorted(counts.items(), key=operator.itemgetter(1), reverse=True)\n",
    "\n",
    "            str_counts = []\n",
    "            for count in sort_counts:\n",
    "                str_counts.append(count[0] + ': ' + str(count[1]))\n",
    "            cat_counts = '; '.join(str_counts)\n",
    "            counts_freq.append(cat_counts)\n",
    "        \n",
    "    sent_list = [hulu_sents,\n",
    "                 disney_sents,\n",
    "                 cbs_sents,\n",
    "                 netflix_sents,\n",
    "                 amazon_sents,\n",
    "                 sling_sents,\n",
    "                 philo_sents,\n",
    "                 youtube_sents,\n",
    "                 directv_sents,\n",
    "                 playstation_sents]\n",
    "    \n",
    "    '''tot_sents = [get_total_sent(hulu_sents), \n",
    "                 get_total_sent(disney_sents), \n",
    "                 get_total_sent(cbs_sents),\n",
    "                 get_total_sent(netflix_sents),\n",
    "                 get_total_sent(amazon_sents),\n",
    "                 get_total_sent(sling_sents),\n",
    "                 get_total_sent(philo_sents),\n",
    "                 get_total_sent(youtube_sents),\n",
    "                 get_total_sent(directv_sents),\n",
    "                 get_total_sent(playstation_sents)]'''\n",
    "    \n",
    "    '''sents_df = pd.DataFrame(tot_sents, index=companies_names, columns=['Sentiment Density'])\n",
    "    sorted_sents = sents_df.sort_values(by='Sentiment Density', ascending=False)\n",
    "    print(sorted_sents)\n",
    "    sorted_sents.plot(kind='bar',rot=45,figsize=(10,4))\n",
    "    plt.show()'''\n",
    "    \n",
    "    return sent_list"
   ]
  },
  {
   "cell_type": "code",
   "execution_count": 10,
   "metadata": {
    "collapsed": true
   },
   "outputs": [],
   "source": [
    "def get_total_sent(serv):\n",
    "    count = 1\n",
    "    tot_sent = 0.0\n",
    "    def sort_func(e):\n",
    "        return e[0]\n",
    "    \n",
    "    serv.sort(reverse=True, key=sort_func)\n",
    "    \n",
    "    best = [b[1] for b in serv[:3]]\n",
    "    worst = [w[1] for w in serv[-3:]]\n",
    "    worst[::-1]\n",
    "    \n",
    "    for sent in serv:\n",
    "        sentiment = sent[0]\n",
    "        tot_sent += sentiment\n",
    "        count += 1\n",
    "    return tot_sent"
   ]
  },
  {
   "cell_type": "code",
   "execution_count": 11,
   "metadata": {
    "collapsed": true
   },
   "outputs": [],
   "source": [
    "def get_sentiment(text):\n",
    "    return text.sentiment"
   ]
  },
  {
   "cell_type": "code",
   "execution_count": 12,
   "metadata": {},
   "outputs": [],
   "source": [
    "subreddit = reddit.subreddit('cordcutters')"
   ]
  },
  {
   "cell_type": "code",
   "execution_count": 13,
   "metadata": {},
   "outputs": [
    {
     "name": "stdout",
     "output_type": "stream",
     "text": [
      "best: \n",
      "\n",
      "[[0.8, 'YouTube TV is great for that.'], [0.8, 'That’s great for all the stuff that YoutubeTV covers.'], [0.7, 'For services with good apps and still-good video quality, I believe all YouTube TV and PlayStation Vue channels are 60fps.']]\n",
      "\n",
      "worst: \n",
      "\n",
      "[[-0.125, \"I'm no expert, but according to wikipedia, there's a number of different de-interlacing methods, and I'm not sure which one YTTV uses.\"], [-0.15000000000000002, '**Youtube** \\\\- CBS and CW shows are swapped with forced commercial VOD options overnight.'], [-0.25, 'No more “is mtv on YouTube tv?']]\n"
     ]
    },
    {
     "data": {
      "image/png": "[encoded data removed]",
      "text/plain": [
       "<matplotlib.figure.Figure at 0x1a15f44240>"
      ]
     },
     "metadata": {},
     "output_type": "display_data"
    }
   ],
   "source": [
    "combined_sentiments = [[], [], [], [], [], [], [], [], [], []]\n",
    "for submission in subreddit.new(limit=25):\n",
    "    #print(submission.title)\n",
    "    sub_sent = get_sentiments(submission)\n",
    "    for i in range(0, len(sub_sent)):\n",
    "        if (len(sub_sent[i]) > 1):\n",
    "            for j in range(0, len(sub_sent[i])):\n",
    "                combined_sentiments[i].append(sub_sent[i][j])\n",
    "\n",
    "total_sents = [0] * len(companies_names)\n",
    "# [service][0 - list of entries for submission][entry][polarity, sentence]\n",
    "\n",
    "\n",
    "youtube_comms = combined_sentiments[7]\n",
    "youtube_comms.sort(key=itemgetter(0), reverse=True)\n",
    "top_youtube_best = youtube_comms[:3]\n",
    "top_youtube_worst = youtube_comms[-3:]\n",
    "\n",
    "print(\"best: \\n\")\n",
    "print(top_youtube_best)\n",
    "print(\"\\nworst: \\n\")\n",
    "print(top_youtube_worst)\n",
    "\n",
    "for i in range(0, len(combined_sentiments)):\n",
    "    for j in range(0, len(combined_sentiments[i])):\n",
    "        total_sents[i] += combined_sentiments[i][j][0]\n",
    "\n",
    "        \n",
    "        \n",
    "comb_sents_df = pd.DataFrame(total_sents, index=companies_names, columns=['Sentiment'])\n",
    "sorted_comb_sents = comb_sents_df.sort_values(by='Sentiment', ascending=False)\n",
    "sorted_comb_sents.plot(kind='bar',rot=45,figsize=(10,4))\n",
    "plt.show()\n",
    "#print(combined_sentiments)"
   ]
  },
  {
   "cell_type": "code",
   "execution_count": 14,
   "metadata": {
    "collapsed": true
   },
   "outputs": [],
   "source": [
    "# Pull Reddit submissions\n",
    "# Store submission id's in dictionary to prevent duplicates\n",
    "# Append dictionary of sentiments (sent_density: , num_mentions: , recent: , top_best: , top_worst: )\n",
    "# Repeat for Twitter comments"
   ]
  },
  {
   "cell_type": "code",
   "execution_count": 15,
   "metadata": {},
   "outputs": [
    {
     "data": {
      "text/plain": [
       "[0.2875, 'I’m pretty sure it’s only available on Hulu and PSVue.']"
      ]
     },
     "execution_count": 15,
     "metadata": {},
     "output_type": "execute_result"
    }
   ],
   "source": [
    "combined_sentiments[0][0]"
   ]
  },
  {
   "cell_type": "code",
   "execution_count": null,
   "metadata": {
    "collapsed": true
   },
   "outputs": [],
   "source": []
  }
 ],
 "metadata": {
  "kernelspec": {
   "display_name": "Python 3",
   "language": "python",
   "name": "python3"
  },
  "language_info": {
   "codemirror_mode": {
    "name": "ipython",
    "version": 3
   },
   "file_extension": ".py",
   "mimetype": "text/x-python",
   "name": "python",
   "nbconvert_exporter": "python",
   "pygments_lexer": "ipython3",
   "version": "3.6.3"
  }
 },
 "nbformat": 4,
 "nbformat_minor": 2
}
